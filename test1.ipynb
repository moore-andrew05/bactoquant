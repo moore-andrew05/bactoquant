{
 "cells": [
  {
   "cell_type": "code",
   "execution_count": 74,
   "metadata": {},
   "outputs": [],
   "source": [
    "import os\n",
    "from skimage import io\n",
    "import numpy as np\n",
    "import matplotlib.pyplot as plt\n",
    "import pandas as pd"
   ]
  },
  {
   "cell_type": "code",
   "execution_count": 104,
   "metadata": {},
   "outputs": [],
   "source": [
    "class KeemPlot:\n",
    "    def __init__(self, path, max_value=4095, threshold=500):\n",
    "        self._max_value = max_value\n",
    "        self._threshold = threshold\n",
    "        self.Raw_Arrays = self._gen_raw_arrays(path)\n",
    "        self.flatdata, self.barcodes = self._get_codes(self.Raw_Arrays)\n",
    "\n",
    "    def _gen_raw_arrays(self, path):\n",
    "        image_names = os.listdir(path)\n",
    "        Raw_Images = []\n",
    "        for i, name in enumerate(image_names):\n",
    "            Raw_Images.append(io.imread(path+name)[:,:,0])\n",
    "\n",
    "        return Raw_Images\n",
    "    \n",
    "    def _interp1d(self, array, new_len):\n",
    "        la = len(array)\n",
    "        return np.interp(np.linspace(0, la - 1, num=new_len), np.arange(la), array)\n",
    "    \n",
    "    def _get_codes(self, Raw_data):\n",
    "\n",
    "        flatdata = []\n",
    "        barcodes = []\n",
    "\n",
    "        for i, image in enumerate(Raw_data):\n",
    "            arr = image.max(axis=0)\n",
    "            arr[arr<self._threshold]=0   #Threshold out noise/unwanted dim signal.\n",
    "            arr = arr/self._max_value    #Normalize to values between 0 and 1.\n",
    "            final = self._interp1d(arr, 10000)\n",
    "            flatdata.append(final)\n",
    "            barcodes.append(np.vstack([final for i in range(500)]))\n",
    "\n",
    "        return flatdata, barcodes\n",
    "    \n",
    "    def plot_barcodes(self, barcodes, save=None):\n",
    "\n",
    "        fig, axes = plt.subplots(len(barcodes), 1, constrained_layout=True)\n",
    "\n",
    "        for i, bar in enumerate(barcodes):\n",
    "            axes[i].imshow(bar, cmap=\"Greys_r\", vmin = 0, vmax=1.0)\n",
    "            axes[i].axis(\"off\")\n",
    "\n",
    "        fig.subplots_adjust(wspace=0,hspace=0, bottom=0)\n",
    "        \n",
    "        if save is not None:\n",
    "            fig.savefig(save, dpi=1200)\n"
   ]
  },
  {
   "cell_type": "code",
   "execution_count": 76,
   "metadata": {},
   "outputs": [],
   "source": [
    "dir1 = KeemPlot(path1)"
   ]
  },
  {
   "cell_type": "code",
   "execution_count": 77,
   "metadata": {},
   "outputs": [
    {
     "data": {
      "image/png": "[encoded data removed]",
      "text/plain": [
       "<Figure size 640x480 with 10 Axes>"
      ]
     },
     "metadata": {},
     "output_type": "display_data"
    }
   ],
   "source": [
    "dir1.plot_barcodes(dir1.barcodes)"
   ]
  },
  {
   "cell_type": "code",
   "execution_count": 78,
   "metadata": {},
   "outputs": [],
   "source": [
    "path1 = \"E:/MY_DATASETS/01_LIVE_BACTERIAL_IMAGING/230408/Jub66_RFP/\"\n",
    "path2 = \"E:/MY_DATASETS/01_LIVE_BACTERIAL_IMAGING/test1/Slide_1/READY_TO_READ/\"\n",
    "path3 = \"E:/MY_DATASETS/01_LIVE_BACTERIAL_IMAGING/test1/Slide_2/READY_TO_READ/\""
   ]
  },
  {
   "cell_type": "code",
   "execution_count": 79,
   "metadata": {},
   "outputs": [],
   "source": [
    "dir1 = KeemPlot(path1)"
   ]
  },
  {
   "cell_type": "code",
   "execution_count": 113,
   "metadata": {},
   "outputs": [],
   "source": [
    "dir1 = KeemPlot(path1, threshold=750)\n",
    "dir2 = KeemPlot(path2, threshold=750)\n",
    "dir3 = KeemPlot(path3, threshold=750)\n",
    "\n",
    "codes = [*dir1.barcodes, *dir2.barcodes, *dir3.barcodes]\n"
   ]
  },
  {
   "cell_type": "code",
   "execution_count": 114,
   "metadata": {},
   "outputs": [
    {
     "data": {
      "image/png": "[encoded data removed]",
      "text/plain": [
       "<Figure size 640x480 with 24 Axes>"
      ]
     },
     "metadata": {},
     "output_type": "display_data"
    }
   ],
   "source": [
    "dir.plot_barcodes(codes, save=\"./images/poster.svg\")"
   ]
  },
  {
   "cell_type": "code",
   "execution_count": 105,
   "metadata": {},
   "outputs": [
    {
     "data": {
      "image/png": "[encoded data removed]",
      "text/plain": [
       "<Figure size 640x480 with 4 Axes>"
      ]
     },
     "metadata": {},
     "output_type": "display_data"
    }
   ],
   "source": [
    "dir.plot_barcodes(codes[0:4], save=\"./images/poster3.svg\")"
   ]
  },
  {
   "cell_type": "code",
   "execution_count": 82,
   "metadata": {},
   "outputs": [],
   "source": [
    "pops = [1, 2, 8, 9, 12]"
   ]
  },
  {
   "cell_type": "code",
   "execution_count": 83,
   "metadata": {},
   "outputs": [],
   "source": [
    "for i in pops:\n",
    "    codes.pop(i)"
   ]
  },
  {
   "cell_type": "code",
   "execution_count": null,
   "metadata": {},
   "outputs": [],
   "source": []
  },
  {
   "cell_type": "code",
   "execution_count": 86,
   "metadata": {},
   "outputs": [
    {
     "name": "stdout",
     "output_type": "stream",
     "text": [
      "24\n",
      "24\n"
     ]
    }
   ],
   "source": [
    "all_data = [*dir1.flatdata, *dir2.flatdata, *dir3.flatdata]\n",
    "print(len(all_data))\n",
    "#all_data.pop(14)\n",
    "print(len(all_data))"
   ]
  },
  {
   "cell_type": "code",
   "execution_count": 87,
   "metadata": {},
   "outputs": [],
   "source": [
    "for i in pops:\n",
    "    all_data.pop(i)"
   ]
  },
  {
   "cell_type": "code",
   "execution_count": 88,
   "metadata": {},
   "outputs": [
    {
     "data": {
      "text/plain": [
       "19"
      ]
     },
     "execution_count": 88,
     "metadata": {},
     "output_type": "execute_result"
    }
   ],
   "source": [
    "len(all_data)"
   ]
  },
  {
   "cell_type": "code",
   "execution_count": 89,
   "metadata": {},
   "outputs": [],
   "source": [
    "avg = sum(all_data) / np.sqrt(len(all_data))"
   ]
  },
  {
   "cell_type": "code",
   "execution_count": 90,
   "metadata": {},
   "outputs": [
    {
     "data": {
      "image/png": "[encoded data removed]",
      "text/plain": [
       "<Figure size 640x480 with 1 Axes>"
      ]
     },
     "metadata": {},
     "output_type": "display_data"
    }
   ],
   "source": [
    "plt.imshow(np.vstack([avg for i in range(500)]), cmap=\"Greys_r\", vmin = 0, vmax = 1.0)\n",
    "plt.axis(\"off\");\n",
    "\n",
    "plt.savefig(\"./images/poster2.svg\", dpi=1200)"
   ]
  },
  {
   "cell_type": "code",
   "execution_count": 60,
   "metadata": {},
   "outputs": [
    {
     "data": {
      "image/png": "[encoded data removed]",
      "text/plain": [
       "<Figure size 640x480 with 1 Axes>"
      ]
     },
     "metadata": {},
     "output_type": "display_data"
    }
   ],
   "source": [
    "plt.imshow(dir2.barcodes[4], cmap=\"Greys_r\", vmin = 0, vmax=1.0)\n",
    "plt.axis(\"off\")\n",
    "\n",
    "plt.savefig(\"./images/presfig.svg\")"
   ]
  },
  {
   "cell_type": "code",
   "execution_count": 99,
   "metadata": {},
   "outputs": [],
   "source": [
    "dir4 = KeemPlot(\"E:/MY_DATASETS/01_LIVE_BACTERIAL_IMAGING/230408/Jub66_RFP_IN_CEMBIO/\", threshold=750)"
   ]
  },
  {
   "cell_type": "code",
   "execution_count": 109,
   "metadata": {},
   "outputs": [
    {
     "data": {
      "image/png": "[encoded data removed]",
      "text/plain": [
       "<Figure size 640x480 with 4 Axes>"
      ]
     },
     "metadata": {},
     "output_type": "display_data"
    }
   ],
   "source": [
    "dir4.plot_barcodes(dir4.barcodes, save=\"./images/poster_cb.svg\")"
   ]
  },
  {
   "cell_type": "code",
   "execution_count": 107,
   "metadata": {},
   "outputs": [],
   "source": [
    "avg2 = sum(dir4.flatdata) / 2"
   ]
  },
  {
   "cell_type": "code",
   "execution_count": 108,
   "metadata": {},
   "outputs": [
    {
     "data": {
      "image/png": "[encoded data removed]",
      "text/plain": [
       "<Figure size 640x480 with 1 Axes>"
      ]
     },
     "metadata": {},
     "output_type": "display_data"
    }
   ],
   "source": [
    "plt.imshow(np.vstack([avg2 for i in range(500)]), cmap=\"Greys_r\", vmin = 0, vmax = 1.0)\n",
    "plt.axis(\"off\");\n",
    "\n",
    "plt.savefig(\"./images/poster_cbavg.svg\", dpi=1200)"
   ]
  }
 ],
 "metadata": {
  "kernelspec": {
   "display_name": "edgelord",
   "language": "python",
   "name": "python3"
  },
  "language_info": {
   "codemirror_mode": {
    "name": "ipython",
    "version": 3
   },
   "file_extension": ".py",
   "mimetype": "text/x-python",
   "name": "python",
   "nbconvert_exporter": "python",
   "pygments_lexer": "ipython3",
   "version": "3.10.6"
  },
  "orig_nbformat": 4,
  "vscode": {
   "interpreter": {
    "hash": "3463c854f0082a003140982b0872894a147152f8e208066d855aeb42c04ab031"
   }
  }
 },
 "nbformat": 4,
 "nbformat_minor": 2
}
