{
 "cells": [
  {
   "cell_type": "code",
   "execution_count": 3,
   "metadata": {},
   "outputs": [],
   "source": [
    "import os\n",
    "from skimage import io\n",
    "import numpy as np\n",
    "import matplotlib.pyplot as plt\n",
    "import pandas as pd"
   ]
  },
  {
   "cell_type": "code",
   "execution_count": 4,
   "metadata": {},
   "outputs": [],
   "source": [
    "class KeemPlot:\n",
    "    def __init__(self, path, max_value=4095, threshold=500):\n",
    "        self._max_value = max_value\n",
    "        self._threshold = threshold\n",
    "        self.Raw_Arrays = self._gen_raw_arrays(path)\n",
    "        self.flatdata, self.barcodes = self._get_codes(self.Raw_Arrays)\n",
    "\n",
    "    def _gen_raw_arrays(self, path):\n",
    "        image_names = os.listdir(path)\n",
    "        Raw_Images = []\n",
    "        for i, name in enumerate(image_names):\n",
    "            Raw_Images.append(io.imread(path+name)[:,:,0])\n",
    "\n",
    "        return Raw_Images\n",
    "    \n",
    "    def _interp1d(self, array, new_len):\n",
    "        la = len(array)\n",
    "        return np.interp(np.linspace(0, la - 1, num=new_len), np.arange(la), array)\n",
    "    \n",
    "    def _get_codes(self, Raw_data):\n",
    "\n",
    "        flatdata = []\n",
    "        barcodes = []\n",
    "\n",
    "        for i, image in enumerate(Raw_data):\n",
    "            arr = image.max(axis=0)\n",
    "            arr[arr<self._threshold]=0   #Threshold out noise/unwanted dim signal.\n",
    "            arr = arr/self._max_value    #Normalize to values between 0 and 1.\n",
    "            final = self._interp1d(arr, 10000)\n",
    "            flatdata.append(final)\n",
    "            barcodes.append(np.vstack([final for i in range(500)]))\n",
    "\n",
    "        return flatdata, barcodes\n",
    "    \n",
    "    def plot_barcodes(self, barcodes, save=None):\n",
    "\n",
    "        fig, axes = plt.subplots(len(barcodes), 1)\n",
    "\n",
    "        for i, bar in enumerate(barcodes):\n",
    "            axes[i].imshow(bar, cmap=\"Greys_r\")\n",
    "            axes[i].axis(\"off\")\n",
    "\n",
    "        fig.subplots_adjust(wspace=0,hspace=0)\n",
    "        \n",
    "        if save is not None:\n",
    "            fig.savefig(save)\n"
   ]
  },
  {
   "cell_type": "code",
   "execution_count": 6,
   "metadata": {},
   "outputs": [],
   "source": [
    "path1 = \"E:/MY_DATASETS/01_LIVE_BACTERIAL_IMAGING/test1/Slide_1/READY_TO_READ/\"\n",
    "path2 = \"E:/MY_DATASETS/01_LIVE_BACTERIAL_IMAGING/test1/Slide_2/READY_TO_READ/\""
   ]
  },
  {
   "cell_type": "code",
   "execution_count": 7,
   "metadata": {},
   "outputs": [
    {
     "data": {
      "image/png": "[encoded data removed]",
      "text/plain": [
       "<Figure size 640x480 with 14 Axes>"
      ]
     },
     "metadata": {},
     "output_type": "display_data"
    }
   ],
   "source": [
    "dir1 = KeemPlot(path1)\n",
    "dir2 = KeemPlot(path2)\n",
    "\n",
    "double_codes = [*dir1.barcodes, *dir2.barcodes]\n",
    "dir1.plot_barcodes(double_codes, \"test_fig\")"
   ]
  },
  {
   "cell_type": "code",
   "execution_count": 8,
   "metadata": {},
   "outputs": [],
   "source": [
    "all_arrays = [*dir1.flatdata, *dir2.flatdata]"
   ]
  }
 ],
 "metadata": {
  "kernelspec": {
   "display_name": "edgelord",
   "language": "python",
   "name": "python3"
  },
  "language_info": {
   "codemirror_mode": {
    "name": "ipython",
    "version": 3
   },
   "file_extension": ".py",
   "mimetype": "text/x-python",
   "name": "python",
   "nbconvert_exporter": "python",
   "pygments_lexer": "ipython3",
   "version": "3.10.6"
  },
  "orig_nbformat": 4,
  "vscode": {
   "interpreter": {
    "hash": "3463c854f0082a003140982b0872894a147152f8e208066d855aeb42c04ab031"
   }
  }
 },
 "nbformat": 4,
 "nbformat_minor": 2
}
