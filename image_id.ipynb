{
 "cells": [
  {
   "cell_type": "code",
   "execution_count": 39,
   "metadata": {},
   "outputs": [],
   "source": [
    "class ImageID:\n",
    "    def __init__(self):\n",
    "        self._PATH = \"/Users/amoore/projects/stable_txts/img_id.txt\"\n",
    "        with open(self._PATH, \"r\") as f:\n",
    "            for line in f:\n",
    "                self._CURR = line\n",
    "                print(self._CURR)\n",
    "            f.close()\n",
    "        self._CURR_INT = int(self._CURR)\n",
    "\n",
    "\n",
    "    def get_nums(self, n):\n",
    "        ids = []\n",
    "        for i in range(n):\n",
    "            ids.append(f\"{(self._CURR_INT + i)}\".zfill(5))\n",
    "\n",
    "        self._CURR_INT += n\n",
    "        self._CURR = str(self._CURR_INT).zfill(5)\n",
    "\n",
    "        self._update_file()\n",
    "\n",
    "        return ids\n",
    "\n",
    "    def _update_file(self):\n",
    "        with open(self._PATH, \"w\") as f:\n",
    "            f.write(self._CURR)\n",
    "            f.close()\n"
   ]
  },
  {
   "cell_type": "code",
   "execution_count": 45,
   "metadata": {},
   "outputs": [
    {
     "name": "stdout",
     "output_type": "stream",
     "text": [
      "00061\n"
     ]
    }
   ],
   "source": [
    "im = ImageID()"
   ]
  },
  {
   "cell_type": "code",
   "execution_count": 44,
   "metadata": {},
   "outputs": [
    {
     "data": {
      "text/plain": [
       "['00041',\n",
       " '00042',\n",
       " '00043',\n",
       " '00044',\n",
       " '00045',\n",
       " '00046',\n",
       " '00047',\n",
       " '00048',\n",
       " '00049',\n",
       " '00050',\n",
       " '00051',\n",
       " '00052',\n",
       " '00053',\n",
       " '00054',\n",
       " '00055',\n",
       " '00056',\n",
       " '00057',\n",
       " '00058',\n",
       " '00059',\n",
       " '00060']"
      ]
     },
     "execution_count": 44,
     "metadata": {},
     "output_type": "execute_result"
    }
   ],
   "source": [
    "im.get_nums(20)"
   ]
  },
  {
   "cell_type": "code",
   "execution_count": null,
   "metadata": {},
   "outputs": [],
   "source": []
  }
 ],
 "metadata": {
  "kernelspec": {
   "display_name": "bactoquant",
   "language": "python",
   "name": "python3"
  },
  "language_info": {
   "codemirror_mode": {
    "name": "ipython",
    "version": 3
   },
   "file_extension": ".py",
   "mimetype": "text/x-python",
   "name": "python",
   "nbconvert_exporter": "python",
   "pygments_lexer": "ipython3",
   "version": "3.11.3"
  },
  "orig_nbformat": 4
 },
 "nbformat": 4,
 "nbformat_minor": 2
}
