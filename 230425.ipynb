{
 "cells": [
  {
   "cell_type": "code",
   "execution_count": 85,
   "metadata": {},
   "outputs": [],
   "source": [
    "import os\n",
    "from skimage import io\n",
    "import numpy as np\n",
    "import matplotlib.pyplot as plt\n",
    "import pandas as pd\n",
    "\n",
    "class KeemPlot:\n",
    "    def __init__(self, path, max_value=4095, threshold=500):\n",
    "        self._max_value = max_value\n",
    "        self._threshold = threshold / max_value\n",
    "        self.Raw_Arrays = self._gen_raw_arrays(path)\n",
    "        self.flatdata, self.flatdata_ut, self.barcodes = self._get_codes(self.Raw_Arrays)\n",
    "\n",
    "    def _gen_raw_arrays(self, path):\n",
    "        image_names = os.listdir(path)\n",
    "        Raw_Images = []\n",
    "        for i, name in enumerate(image_names):\n",
    "            Raw_Images.append(io.imread(path+name)[:,:,0])\n",
    "\n",
    "        return Raw_Images\n",
    "    \n",
    "    def _interp1d(self, array, new_len):\n",
    "        la = len(array)\n",
    "        return np.interp(np.linspace(0, la - 1, num=new_len), np.arange(la), array)\n",
    "    \n",
    "    def _get_codes(self, Raw_data):\n",
    "\n",
    "        flatdata = []\n",
    "        flatdata_ut = []\n",
    "        barcodes = []\n",
    "\n",
    "        for i, image in enumerate(Raw_data):\n",
    "            arr = image.max(axis=0)\n",
    "            arr = arr/self._max_value    #Normalize to values between 0 and 1.\n",
    "            arr_int = self._interp1d(arr, 10000)\n",
    "            flatdata_ut.append(np.copy(arr_int)) # append unthresholded arrays\n",
    "            arr_int[arr_int < self._threshold] = 0  #Threshold out noise/unwanted dim signal.\n",
    "            print(np.max(arr_int))\n",
    "            flatdata.append(np.copy(arr_int))\n",
    "            barcodes.append(np.vstack([arr_int for i in range(500)]))\n",
    "            \n",
    "\n",
    "        return flatdata, flatdata_ut, barcodes\n",
    "    \n",
    "    def plot_barcodes(self, barcodes, save=None):\n",
    "\n",
    "        fig, axes = plt.subplots(len(barcodes), 1)\n",
    "\n",
    "\n",
    "        for i, bar in enumerate(barcodes):\n",
    "            axes[i].imshow(bar, cmap=\"Greys_r\", vmin = 0, vmax=1.0)\n",
    "            axes[i].axis(\"off\")\n",
    "\n",
    "        fig.tight_layout(pad=0)\n",
    "        \n",
    "        \n",
    "        if save is not None:\n",
    "            fig.savefig(save, dpi=1200)\n"
   ]
  },
  {
   "cell_type": "code",
   "execution_count": 47,
   "metadata": {},
   "outputs": [],
   "source": [
    "path = \"E:/MY_DATASETS/01_LIVE_BACTERIAL_IMAGING/test1/Slide_1/READY_TO_READ/\""
   ]
  },
  {
   "cell_type": "code",
   "execution_count": 86,
   "metadata": {},
   "outputs": [
    {
     "name": "stdout",
     "output_type": "stream",
     "text": [
      "0.19169501809765832\n",
      "1.0\n",
      "0.31281279532104556\n",
      "0.0\n",
      "1.0\n",
      "0.2804085292534126\n"
     ]
    }
   ],
   "source": [
    "dir = KeemPlot(path)"
   ]
  },
  {
   "cell_type": "code",
   "execution_count": 87,
   "metadata": {},
   "outputs": [
    {
     "data": {
      "text/plain": [
       "125"
      ]
     },
     "execution_count": 87,
     "metadata": {},
     "output_type": "execute_result"
    }
   ],
   "source": [
    "np.sum(dir.flatdata[0] == dir.flatdata_ut[0])"
   ]
  },
  {
   "cell_type": "code",
   "execution_count": 88,
   "metadata": {},
   "outputs": [
    {
     "data": {
      "text/plain": [
       "0.19169501809765832"
      ]
     },
     "execution_count": 88,
     "metadata": {},
     "output_type": "execute_result"
    }
   ],
   "source": [
    "np.max(dir.flatdata_ut[0])"
   ]
  },
  {
   "cell_type": "code",
   "execution_count": 89,
   "metadata": {},
   "outputs": [
    {
     "data": {
      "text/plain": [
       "(10000,)"
      ]
     },
     "execution_count": 89,
     "metadata": {},
     "output_type": "execute_result"
    }
   ],
   "source": [
    "dir.flatdata_ut[1].shape"
   ]
  },
  {
   "cell_type": "code",
   "execution_count": 90,
   "metadata": {},
   "outputs": [
    {
     "data": {
      "text/plain": [
       "array([0., 0., 0., ..., 0., 0., 0.])"
      ]
     },
     "execution_count": 90,
     "metadata": {},
     "output_type": "execute_result"
    }
   ],
   "source": [
    "dir.flatdata[0]"
   ]
  },
  {
   "cell_type": "code",
   "execution_count": 91,
   "metadata": {},
   "outputs": [
    {
     "data": {
      "image/png": "[encoded data removed]",
      "text/plain": [
       "<Figure size 640x480 with 6 Axes>"
      ]
     },
     "metadata": {},
     "output_type": "display_data"
    }
   ],
   "source": [
    "\n",
    "dir.plot_barcodes(dir.barcodes, save=\"./images/poster_nc.svg\")"
   ]
  },
  {
   "cell_type": "code",
   "execution_count": 5,
   "metadata": {},
   "outputs": [],
   "source": [
    "avg = sum(dir.flatdata) / np.sqrt(len(dir.flatdata))"
   ]
  },
  {
   "cell_type": "code",
   "execution_count": 7,
   "metadata": {},
   "outputs": [
    {
     "data": {
      "image/png": "[encoded data removed]",
      "text/plain": [
       "<Figure size 640x480 with 1 Axes>"
      ]
     },
     "metadata": {},
     "output_type": "display_data"
    }
   ],
   "source": [
    "plt.imshow(np.vstack([avg for i in range(500)]), cmap=\"Greys_r\", vmin = 0, vmax = 1.0)\n",
    "plt.axis(\"off\");\n",
    "\n",
    "plt.savefig(\"./images/poster_ncavg.svg\", dpi=1200)"
   ]
  }
 ],
 "metadata": {
  "kernelspec": {
   "display_name": "edgelord",
   "language": "python",
   "name": "python3"
  },
  "language_info": {
   "codemirror_mode": {
    "name": "ipython",
    "version": 3
   },
   "file_extension": ".py",
   "mimetype": "text/x-python",
   "name": "python",
   "nbconvert_exporter": "python",
   "pygments_lexer": "ipython3",
   "version": "3.10.6"
  },
  "orig_nbformat": 4
 },
 "nbformat": 4,
 "nbformat_minor": 2
}
