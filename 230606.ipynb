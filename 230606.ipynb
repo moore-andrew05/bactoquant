{
 "cells": [
  {
   "cell_type": "code",
   "execution_count": 15,
   "metadata": {},
   "outputs": [],
   "source": [
    "import os\n",
    "from skimage import io\n",
    "import numpy as np\n",
    "import matplotlib.pyplot as plt\n",
    "import pandas as pd"
   ]
  },
  {
   "cell_type": "code",
   "execution_count": 38,
   "metadata": {},
   "outputs": [],
   "source": [
    "class KeemPlot:\n",
    "    def __init__(self, path, max_value=4095, threshold=500):\n",
    "        self._max_value = max_value\n",
    "        self._threshold = threshold / max_value\n",
    "        self.Raw_Arrays = self._gen_raw_arrays(path)\n",
    "        self.flatdata, self.flatdata_ut, self.barcodes = self._get_codes(self.Raw_Arrays)\n",
    "\n",
    "    def _gen_raw_arrays(self, path):\n",
    "        image_names = os.listdir(path)\n",
    "        Raw_Images = []\n",
    "        for i, name in enumerate(image_names):\n",
    "            Raw_Images.append(io.imread(path+name)[0,:,:])\n",
    "\n",
    "        return Raw_Images\n",
    "    \n",
    "    def _interp1d(self, array, new_len):\n",
    "        la = len(array)\n",
    "        return np.interp(np.linspace(0, la - 1, num=new_len), np.arange(la), array)\n",
    "    \n",
    "    def _get_codes(self, Raw_data):\n",
    "\n",
    "        flatdata = []\n",
    "        flatdata_ut = []\n",
    "        barcodes = []\n",
    "\n",
    "        for i, image in enumerate(Raw_data):\n",
    "            arr = image.max(axis=0)                       # Collapse 2d image into vector based on max value in each column\n",
    "            arr = arr/self._max_value                     # Normalize to values between 0 and 1.\n",
    "            arr_int = self._interp1d(arr, 10000)          # Interpolate the vector into 10000 values.\n",
    "            flatdata_ut.append(np.copy(arr_int))          # Append unthresholded arrays\n",
    "            arr_int[arr_int < self._threshold] = 0        # Threshold out noise/unwanted dim signal.\n",
    "            flatdata.append(np.copy(arr_int))\n",
    "            barcodes.append(np.vstack([arr_int for k in range(500)]))\n",
    "            \n",
    "        return flatdata, flatdata_ut, barcodes\n",
    "    \n",
    "    def plot_barcodes(self, barcodes, save=None):\n",
    "\n",
    "        fig, axes = plt.subplots(len(barcodes), 1)\n",
    "\n",
    "\n",
    "        for i, bar in enumerate(barcodes):\n",
    "            axes[i].imshow(bar, cmap=\"Greys_r\", vmin = 0, vmax=1.0)\n",
    "            axes[i].axis(\"off\")\n",
    "\n",
    "        fig.tight_layout(pad=0)\n",
    "        \n",
    "        \n",
    "        if save is not None:\n",
    "            fig.savefig(save, dpi=1200)\n"
   ]
  },
  {
   "cell_type": "code",
   "execution_count": 39,
   "metadata": {},
   "outputs": [],
   "source": [
    "data = KeemPlot(\"./data/JUB66_RFP/\", max_value=65535)"
   ]
  },
  {
   "cell_type": "code",
   "execution_count": 40,
   "metadata": {},
   "outputs": [
    {
     "data": {
      "image/png": "[encoded data removed]",
      "text/plain": [
       "<Figure size 640x480 with 3 Axes>"
      ]
     },
     "metadata": {},
     "output_type": "display_data"
    }
   ],
   "source": [
    "data.plot_barcodes(data.barcodes)"
   ]
  }
 ],
 "metadata": {
  "kernelspec": {
   "display_name": "bactoquant",
   "language": "python",
   "name": "python3"
  },
  "language_info": {
   "codemirror_mode": {
    "name": "ipython",
    "version": 3
   },
   "file_extension": ".py",
   "mimetype": "text/x-python",
   "name": "python",
   "nbconvert_exporter": "python",
   "pygments_lexer": "ipython3",
   "version": "3.11.3"
  },
  "orig_nbformat": 4
 },
 "nbformat": 4,
 "nbformat_minor": 2
}
